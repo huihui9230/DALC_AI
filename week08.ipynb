{
  "nbformat": 4,
  "nbformat_minor": 0,
  "metadata": {
    "colab": {
      "name": "week08.ipynb",
      "provenance": [],
      "authorship_tag": "ABX9TyOf5mF3JFbAWBkpADn/KjDt",
      "include_colab_link": true
    },
    "kernelspec": {
      "name": "python3",
      "display_name": "Python 3"
    },
    "language_info": {
      "name": "python"
    }
  },
  "cells": [
    {
      "cell_type": "markdown",
      "metadata": {
        "id": "view-in-github",
        "colab_type": "text"
      },
      "source": [
        "<a href=\"https://colab.research.google.com/github/huihui9230/DALC_AI/blob/main/week08.ipynb\" target=\"_parent\"><img src=\"https://colab.research.google.com/assets/colab-badge.svg\" alt=\"Open In Colab\"/></a>"
      ]
    },
    {
      "cell_type": "markdown",
      "metadata": {
        "id": "wa8GfTfpa_hq"
      },
      "source": [
        "<h1>33. 전화번호 문자 조합</h1>"
      ]
    },
    {
      "cell_type": "code",
      "metadata": {
        "id": "4FEBExVEaMZa"
      },
      "source": [
        "class Solution:\n",
        "    def letterCombinations(self, digits):\n",
        "        def dfs(index, path):\n",
        "            if len(path) == len(digits):\n",
        "                result.append(path)\n",
        "                return\n",
        "\n",
        "            for i in range(index, len(digits)):\n",
        "                for j in dic[digits[i]]:\n",
        "                    dfs(i + 1, path + j)\n",
        "\n",
        "        if not digits:\n",
        "            return []\n",
        "\n",
        "        dic = {\"2\": \"abc\", \"3\": \"def\", \"4\": \"ghi\", \"5\": \"jkl\", \"6\": \"mno\", \"7\": \"pqrs\", \"8\": \"tuv\", \"9\": \"wxyz\"}\n",
        "        result = []\n",
        "        dfs(0, \"\")\n",
        "\n",
        "        return result"
      ],
      "execution_count": null,
      "outputs": []
    },
    {
      "cell_type": "markdown",
      "metadata": {
        "id": "SUe0UC4tbzWP"
      },
      "source": [
        "<h1>34. 순열 </h1>"
      ]
    },
    {
      "cell_type": "code",
      "metadata": {
        "id": "V3TrHNq4akxo"
      },
      "source": [
        "class Solution:\n",
        "    def permute(nums):\n",
        "        results = []\n",
        "        prev_elements = []\n",
        "\n",
        "        def dfs(elements):\n",
        "            if len(elements) == 0:\n",
        "                results.append(prev_elements[:])\n",
        "\n",
        "            for e in elements:\n",
        "                next_elements = elements[:]\n",
        "                next_elements.remove(e)\n",
        "\n",
        "                prev_elements.append(e)\n",
        "                dfs(next_elements)\n",
        "                prev_elements.pop()\n",
        "\n",
        "        dfs(nums)\n",
        "        return results"
      ],
      "execution_count": null,
      "outputs": []
    },
    {
      "cell_type": "markdown",
      "metadata": {
        "id": "jLgw7Hfsb84k"
      },
      "source": [
        "<h1>36. 조합의 합</h1>"
      ]
    },
    {
      "cell_type": "code",
      "metadata": {
        "id": "o_1kESqHalTA"
      },
      "source": [
        "class Solution:\n",
        "  def combinationSum(self, candidates: List[int], target: int) -> List[List[int]]:\n",
        "      result = []\n",
        "      \n",
        "      def dfs(csum, index, path):\n",
        "          # 종료 조건\n",
        "          if csum < 0:\n",
        "              return\n",
        "          if csum == 0:\n",
        "              resulr.append(path)\n",
        "              return\n",
        "      \n",
        "          # 자신 부터 하위 원소까지의 나열 재귀 호출\n",
        "          for i in range(index, len(candidates)):\n",
        "              dfs(csum - candidates[i], i, path + [candidates[i]])\n",
        "              \n",
        "      dfs(target, 0, [])\n",
        "      return result"
      ],
      "execution_count": null,
      "outputs": []
    },
    {
      "cell_type": "code",
      "metadata": {
        "id": "0hRu8v0Calm1"
      },
      "source": [
        ""
      ],
      "execution_count": null,
      "outputs": []
    },
    {
      "cell_type": "code",
      "metadata": {
        "id": "fPLeD0Khalxm"
      },
      "source": [
        ""
      ],
      "execution_count": null,
      "outputs": []
    },
    {
      "cell_type": "code",
      "metadata": {
        "id": "0YsjwGVpal1d"
      },
      "source": [
        ""
      ],
      "execution_count": null,
      "outputs": []
    },
    {
      "cell_type": "code",
      "metadata": {
        "id": "Fbq166-Eal4m"
      },
      "source": [
        ""
      ],
      "execution_count": null,
      "outputs": []
    },
    {
      "cell_type": "code",
      "metadata": {
        "id": "rReslLYHal9u"
      },
      "source": [
        ""
      ],
      "execution_count": null,
      "outputs": []
    },
    {
      "cell_type": "code",
      "metadata": {
        "id": "eGkqqSSRamBQ"
      },
      "source": [
        ""
      ],
      "execution_count": null,
      "outputs": []
    }
  ]
}